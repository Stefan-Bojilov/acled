{
 "cells": [
  {
   "cell_type": "code",
   "execution_count": 13,
   "metadata": {},
   "outputs": [
    {
     "name": "stdout",
     "output_type": "stream",
     "text": [
      "Fetched 15000 rows from ACLED\n",
      "(15000, 31) ['event_id_cnty', 'event_date', 'year', 'time_precision', 'disorder_type', 'event_type', 'sub_event_type', 'actor1', 'assoc_actor_1', 'inter1', 'actor2', 'assoc_actor_2', 'inter2', 'interaction', 'civilian_targeting', 'iso', 'region', 'country', 'admin1', 'admin2', 'admin3', 'location', 'latitude', 'longitude', 'geo_precision', 'source', 'source_scale', 'notes', 'fatalities', 'tags', 'timestamp']\n",
      "2025-04-18\n"
     ]
    },
    {
     "name": "stderr",
     "output_type": "stream",
     "text": [
      "Exception ignored in: <coroutine object fetch_acled_data_async at 0x12ea79bd0>\n",
      "Traceback (most recent call last):\n",
      "  File \"<string>\", line 1, in <lambda>\n",
      "KeyError: '__import__'\n",
      "Exception ignored in: <coroutine object fetch_acled_data_async at 0x12ea79bd0>\n",
      "Traceback (most recent call last):\n",
      "  File \"<string>\", line 1, in <lambda>\n",
      "KeyError: '__import__'\n"
     ]
    }
   ],
   "source": [
    "#!/usr/bin/env python3\n",
    "import asyncio\n",
    "import os\n",
    "import time\n",
    "from typing import Optional\n",
    "\n",
    "from config.secrets_config import SecretManager\n",
    "import polars as pl\n",
    "import requests\n",
    "\n",
    "from dotenv import load_dotenv\n",
    "import os\n",
    "\n",
    "load_dotenv()\n",
    "\n",
    "# ——— Configuration ———\n",
    "from config.secrets_config import SecretManager\n",
    "\n",
    "sm = SecretManager(region_name=\"eu-north-1\")\n",
    "\n",
    "API_KEY = sm.get_secret('ACLED-API')\n",
    "EMAIL   = \"s.a.bojilov@umail.leidenuniv.nl\" \n",
    "\n",
    "ACLED_API_BASE      = \"https://api.acleddata.com\"\n",
    "ACLED_EVENT_ENDPOINT = \"/acled/read\"\n",
    "\n",
    "\n",
    "def fetch_acled_data(\n",
    "    api_key: str,\n",
    "    email: str,\n",
    "    limit: int = 5000,\n",
    "    max_pages: int = 2,\n",
    "    query_params: dict | None = None,\n",
    ") -> pl.DataFrame:\n",
    "    all_rows = []\n",
    "    page = 1\n",
    "    while page <= max_pages:\n",
    "        params = {\"key\": api_key, \"email\": email, \"limit\": limit, \"page\": page}\n",
    "        if query_params:\n",
    "            params.update(query_params)\n",
    "\n",
    "        url = ACLED_API_BASE + ACLED_EVENT_ENDPOINT\n",
    "        resp = requests.get(url, params=params)\n",
    "        resp.raise_for_status()\n",
    "\n",
    "        payload = resp.json()\n",
    "        rows = payload.get(\"data\", [])\n",
    "        if not rows:\n",
    "            break\n",
    "\n",
    "        all_rows.extend(rows)\n",
    "        if len(rows) < limit:\n",
    "            break\n",
    "        page += 1\n",
    "\n",
    "    return pl.DataFrame(all_rows)\n",
    "\n",
    "\n",
    "if __name__ == \"__main__\":\n",
    "    # Simple filter: ISO code 100, year 2024\n",
    "    df = fetch_acled_data(\n",
    "        api_key=API_KEY,\n",
    "        email=EMAIL,\n",
    "        limit=2000,\n",
    "        max_pages=3,\n",
    "        query_params={\"iso\": 804, \"year\": [2025]},\n",
    "    )\n",
    "\n",
    "    print(f\"Fetched {len(df)} rows from ACLED\")\n",
    "    print(df.shape, df.columns)\n",
    "    print(df['event_date'].min())\n",
    "    df.write_excel(\"acled_data.xlsx\")"
   ]
  },
  {
   "cell_type": "code",
   "execution_count": 4,
   "metadata": {},
   "outputs": [],
   "source": [
    "import aiohttp\n",
    "import asyncio\n",
    "import polars as pl\n",
    "\n",
    "async def fetch_page(session: aiohttp.ClientSession, url: str, params: dict) -> list[dict]:\n",
    "    async with session.get(url, params=params) as resp:\n",
    "        resp.raise_for_status()\n",
    "        payload = await resp.json()\n",
    "        return payload.get(\"data\", [])\n",
    "\n",
    "async def fetch_acled_data_async(\n",
    "    api_key: str,\n",
    "    email: str,\n",
    "    limit: int = 5000,\n",
    "    max_pages: int = 2,\n",
    "    query_params: dict | None = None,\n",
    ") -> pl.DataFrame:\n",
    "    all_rows = []\n",
    "    url = ACLED_API_BASE + ACLED_EVENT_ENDPOINT\n",
    "\n",
    "    async with aiohttp.ClientSession() as session:\n",
    "        for page in range(1, max_pages + 1):\n",
    "            params = {\"key\": api_key, \"email\": email, \"limit\": limit, \"page\": page}\n",
    "            if query_params:\n",
    "                params.update(query_params)\n",
    "\n",
    "            try:\n",
    "                rows = await fetch_page(session, url, params)\n",
    "                if not rows:\n",
    "                    break\n",
    "                all_rows.extend(rows)\n",
    "                if len(rows) < limit:\n",
    "                    break\n",
    "            except Exception as e:\n",
    "                print(f\"Error on page {page}: {e}\")\n",
    "                break\n",
    "\n",
    "    return pl.DataFrame(all_rows)"
   ]
  },
  {
   "cell_type": "code",
   "execution_count": 8,
   "metadata": {},
   "outputs": [
    {
     "data": {
      "text/plain": [
       "(15000, 31)"
      ]
     },
     "execution_count": 8,
     "metadata": {},
     "output_type": "execute_result"
    }
   ],
   "source": [
    "df = await fetch_acled_data_async(\n",
    "    api_key=API_KEY,\n",
    "    email=EMAIL,\n",
    "    limit=1000,\n",
    "    max_pages=3,\n",
    "    query_params={\"iso\": 804, \"year\": 2024}\n",
    ")\n",
    "df.shape"
   ]
  },
  {
   "cell_type": "code",
   "execution_count": null,
   "metadata": {},
   "outputs": [],
   "source": []
  }
 ],
 "metadata": {
  "kernelspec": {
   "display_name": ".venv",
   "language": "python",
   "name": "python3"
  },
  "language_info": {
   "codemirror_mode": {
    "name": "ipython",
    "version": 3
   },
   "file_extension": ".py",
   "mimetype": "text/x-python",
   "name": "python",
   "nbconvert_exporter": "python",
   "pygments_lexer": "ipython3",
   "version": "3.10.17"
  }
 },
 "nbformat": 4,
 "nbformat_minor": 2
}
