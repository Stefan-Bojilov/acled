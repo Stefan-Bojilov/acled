{
 "cells": [
  {
   "cell_type": "code",
   "execution_count": 28,
   "metadata": {},
   "outputs": [],
   "source": [
    "from dagster_acled.acled_request_config import * \n",
    "from dagster_acled.secrets_config import *\n",
    "import os\n",
    "\n",
    "sm = SecretManager(region_name=os.environ['REGION_NAME'])\n",
    "client = AcledClientConfig()\n",
    "token = await client.get_oauth_manager().get_access_token()\n",
    "\n",
    "username = client.get_oauth_manager().username\n",
    "password = client.get_oauth_manager().password"
   ]
  },
  {
   "cell_type": "code",
   "execution_count": 38,
   "metadata": {},
   "outputs": [],
   "source": [
    "async def test_token(username: str, password: str, date: str):\n",
    "    \"\"\"Minimal test: get token, make API call.\"\"\"\n",
    "    \n",
    "    # Get token\n",
    "    data = aiohttp.FormData()\n",
    "    data.add_field('username', username)\n",
    "    data.add_field('password', password)\n",
    "    data.add_field('grant_type', 'password')\n",
    "    data.add_field('client_id', 'acled')\n",
    "    \n",
    "    async with aiohttp.ClientSession() as session:\n",
    "        # Get token\n",
    "        async with session.post('https://acleddata.com/oauth/token', data=data) as resp:\n",
    "            token = (await resp.json())['access_token']\n",
    "            print(f\"Token: {token[:20]}...\")\n",
    "        \n",
    "        headers = {'Authorization': f'Bearer {token}'}\n",
    "        async with session.get(f'https://acleddata.com/api/acled/read?limit=1000&iso=804&event_date={date}', headers=headers) as resp:\n",
    "            data = await resp.json()\n",
    "            return data"
   ]
  },
  {
   "cell_type": "code",
   "execution_count": 39,
   "metadata": {},
   "outputs": [
    {
     "name": "stdout",
     "output_type": "stream",
     "text": [
      "Token: eyJ0eXAiOiJKV1QiLCJh...\n",
      "shape: (1, 31)\n",
      "┌─────┬─────┬─────┬─────┬─────┬─────┬─────┬─────┬─────┬─────┬─────┬─────┬─────┬─────┬─────┬─────┬─────┬─────┬─────┬─────┬─────┬─────┬─────┬─────┬─────┬─────┬─────┬─────┬─────┬─────┬─────┐\n",
      "│ eve ┆ eve ┆ yea ┆ tim ┆ dis ┆ eve ┆ sub ┆ act ┆ ass ┆ int ┆ act ┆ ass ┆ int ┆ int ┆ civ ┆ iso ┆ reg ┆ cou ┆ adm ┆ adm ┆ adm ┆ loc ┆ lat ┆ lon ┆ geo ┆ sou ┆ sou ┆ not ┆ fat ┆ tag ┆ tim │\n",
      "│ nt_ ┆ nt_ ┆ r   ┆ e_p ┆ ord ┆ nt_ ┆ _ev ┆ or1 ┆ oc_ ┆ er1 ┆ or2 ┆ oc_ ┆ er2 ┆ era ┆ ili ┆ --- ┆ ion ┆ ntr ┆ in1 ┆ in2 ┆ in3 ┆ ati ┆ itu ┆ git ┆ _pr ┆ rce ┆ rce ┆ es  ┆ ali ┆ s   ┆ est │\n",
      "│ id_ ┆ dat ┆ --- ┆ rec ┆ er_ ┆ typ ┆ ent ┆ --- ┆ act ┆ --- ┆ --- ┆ act ┆ --- ┆ cti ┆ an_ ┆ obj ┆ --- ┆ y   ┆ --- ┆ --- ┆ --- ┆ on  ┆ de  ┆ ude ┆ eci ┆ --- ┆ _sc ┆ --- ┆ tie ┆ --- ┆ amp │\n",
      "│ cnt ┆ e   ┆ obj ┆ isi ┆ typ ┆ e   ┆ _ty ┆ obj ┆ or_ ┆ obj ┆ obj ┆ or_ ┆ obj ┆ on  ┆ tar ┆ ect ┆ obj ┆ --- ┆ obj ┆ obj ┆ obj ┆ --- ┆ --- ┆ --- ┆ sio ┆ obj ┆ ale ┆ obj ┆ s   ┆ obj ┆ --- │\n",
      "│ y   ┆ --- ┆ ect ┆ on  ┆ e   ┆ --- ┆ pe  ┆ ect ┆ 1   ┆ ect ┆ ect ┆ 2   ┆ ect ┆ --- ┆ get ┆     ┆ ect ┆ obj ┆ ect ┆ ect ┆ ect ┆ obj ┆ obj ┆ obj ┆ n   ┆ ect ┆ --- ┆ ect ┆ --- ┆ ect ┆ obj │\n",
      "│ --- ┆ obj ┆     ┆ --- ┆ --- ┆ obj ┆ --- ┆     ┆ --- ┆     ┆     ┆ --- ┆     ┆ obj ┆ ing ┆     ┆     ┆ ect ┆     ┆     ┆     ┆ ect ┆ ect ┆ ect ┆ --- ┆     ┆ obj ┆     ┆ obj ┆     ┆ ect │\n",
      "│ obj ┆ ect ┆     ┆ obj ┆ obj ┆ ect ┆ obj ┆     ┆ obj ┆     ┆     ┆ obj ┆     ┆ ect ┆ --- ┆     ┆     ┆     ┆     ┆     ┆     ┆     ┆     ┆     ┆ obj ┆     ┆ ect ┆     ┆ ect ┆     ┆     │\n",
      "│ ect ┆     ┆     ┆ ect ┆ ect ┆     ┆ ect ┆     ┆ ect ┆     ┆     ┆ ect ┆     ┆     ┆ obj ┆     ┆     ┆     ┆     ┆     ┆     ┆     ┆     ┆     ┆ ect ┆     ┆     ┆     ┆     ┆     ┆     │\n",
      "│     ┆     ┆     ┆     ┆     ┆     ┆     ┆     ┆     ┆     ┆     ┆     ┆     ┆     ┆ ect ┆     ┆     ┆     ┆     ┆     ┆     ┆     ┆     ┆     ┆     ┆     ┆     ┆     ┆     ┆     ┆     │\n",
      "╞═════╪═════╪═════╪═════╪═════╪═════╪═════╪═════╪═════╪═════╪═════╪═════╪═════╪═════╪═════╪═════╪═════╪═════╪═════╪═════╪═════╪═════╪═════╪═════╪═════╪═════╪═════╪═════╪═════╪═════╪═════╡\n",
      "│ Str ┆ Str ┆ Int ┆ Str ┆ Str ┆ Str ┆ Str ┆ Str ┆ Str ┆ Str ┆ Str ┆ Str ┆ Str ┆ Str ┆ Str ┆ Int ┆ Str ┆ Str ┆ Str ┆ Str ┆ Str ┆ Str ┆ Str ┆ Str ┆ Int ┆ Str ┆ Str ┆ Str ┆ Int ┆ Str ┆ Int │\n",
      "│ ing ┆ ing ┆ 64  ┆ ing ┆ ing ┆ ing ┆ ing ┆ ing ┆ ing ┆ ing ┆ ing ┆ ing ┆ ing ┆ ing ┆ ing ┆ 64  ┆ ing ┆ ing ┆ ing ┆ ing ┆ ing ┆ ing ┆ ing ┆ ing ┆ 64  ┆ ing ┆ ing ┆ ing ┆ 64  ┆ ing ┆ 64  │\n",
      "└─────┴─────┴─────┴─────┴─────┴─────┴─────┴─────┴─────┴─────┴─────┴─────┴─────┴─────┴─────┴─────┴─────┴─────┴─────┴─────┴─────┴─────┴─────┴─────┴─────┴─────┴─────┴─────┴─────┴─────┴─────┘\n"
     ]
    }
   ],
   "source": [
    "import asyncio\n",
    "import polars as pl\n",
    "\n",
    "data = await test_token(username, password, date = '2025-09-26')\n",
    "df = pl.DataFrame(data['data'])\n",
    "\n",
    "with pl.Config(tbl_rows=df.shape[0], tbl_cols=df.shape[1]): \n",
    "    print(pl.DataFrame(df.collect_schema()))"
   ]
  },
  {
   "cell_type": "code",
   "execution_count": 61,
   "metadata": {},
   "outputs": [],
   "source": [
    "import polars as pl\n",
    "import json\n",
    "\n",
    "# Get individual file paths from the glob pattern\n",
    "test_Df = pl.scan_parquet(\n",
    "        \"s3://dagster-acled-bucket/acled/acled_daily_data/acled_daily_data/partition_2025-09-26.parquet\"\n",
    "    ).collect()"
   ]
  },
  {
   "cell_type": "code",
   "execution_count": null,
   "metadata": {},
   "outputs": [
    {
     "name": "stdout",
     "output_type": "stream",
     "text": [
      "Login response: {'current_user': {'uid': '59469', 'name': 's.a.bojilov@umail.leidenuniv.nl'}, 'csrf_token': '3_d7dxkGreXNTYwht65QrU3SZFXGkjF0m0OwW5temUY', 'logout_token': 'Vd3lt9wRVESord-vBM0uqWrkcoDD-BGI2UB6a6nhasQ'}\n",
      "Cookies after login: 1 cookies\n",
      "API response status: 200\n",
      "{'status': 200, 'success': True, 'count': 0, 'total_count': 0, 'messages': [], 'data': [], 'filename': 'results.json', 'data_query_restrictions': {'countries': [], 'event_types': [], 'regions': [], 'history': [], 'recency': [], 'date_recency': {'quantity': 12, 'unit': 'Months', 'description': '12 Months old', 'timestamp': 1726586733, 'date': '2024-09-17'}}}\n"
     ]
    }
   ],
   "source": [
    "\n",
    "\n",
    "async def test_cookie_auth(username: str, password: str):\n",
    "    \"\"\"Minimal test: login with cookies, make API call.\"\"\"\n",
    "    \n",
    "    async with aiohttp.ClientSession() as session:\n",
    "        login_data = {\n",
    "            \"name\": username,\n",
    "            \"pass\": password\n",
    "        }\n",
    "        \n",
    "        async with session.post(\n",
    "            'https://acleddata.com/user/login?_format=json',\n",
    "            json=login_data,\n",
    "            headers={'Content-Type': 'application/json'}\n",
    "        ) as login_resp:\n",
    "            login_result = await login_resp.json()\n",
    "            print(f\"Login response: {login_result}\")\n",
    "            print(f\"Cookies after login: {len(session.cookie_jar)} cookies\")\n",
    "        \n",
    "        async with session.get(\n",
    "            'https://acleddata.com/api/acled/read?limit=1&event_date=2024-12-31'\n",
    "        ) as api_resp:\n",
    "            data = await api_resp.json()\n",
    "            print(f\"API response status: {api_resp.status}\")\n",
    "            return data\n",
    "\n",
    "result = await test_cookie_auth(username=username,password=password)\n",
    "print(result)"
   ]
  },
  {
   "cell_type": "code",
   "execution_count": 1,
   "metadata": {},
   "outputs": [],
   "source": [
    "import duckdb\n",
    "import boto3\n",
    "# Get AWS credentials\n",
    "session = boto3.Session()\n",
    "credentials = session.get_credentials()\n",
    "\n",
    "conn = duckdb.connect()\n",
    "conn.execute(\"INSTALL httpfs;\")\n",
    "conn.execute(\"LOAD httpfs;\")\n",
    "\n",
    "# Set credentials from boto3\n",
    "conn.execute(f\"SET s3_access_key_id='{credentials.access_key}';\")\n",
    "conn.execute(f\"SET s3_secret_access_key='{credentials.secret_key}';\")\n",
    "conn.execute(\"SET s3_region='eu-north-1';\")\n",
    "if credentials.token:\n",
    "    conn.execute(f\"SET s3_session_token='{credentials.token}';\")"
   ]
  },
  {
   "cell_type": "code",
   "execution_count": 1,
   "metadata": {},
   "outputs": [
    {
     "name": "stdout",
     "output_type": "stream",
     "text": [
      "Loaded 10,317 records\n",
      "shape: (5, 15)\n",
      "┌───────────┬───────────┬───────────┬───────────┬───┬──────────┬───────────┬───────────┬───────────┐\n",
      "│ disorder_ ┆ event_typ ┆ sub_event ┆ actor1    ┆ … ┆ latitude ┆ longitude ┆ fatalitie ┆ event_dat │\n",
      "│ type      ┆ e         ┆ _type     ┆ ---       ┆   ┆ ---      ┆ ---       ┆ s         ┆ e         │\n",
      "│ ---       ┆ ---       ┆ ---       ┆ str       ┆   ┆ f64      ┆ f64       ┆ ---       ┆ ---       │\n",
      "│ str       ┆ str       ┆ str       ┆           ┆   ┆          ┆           ┆ i32       ┆ date      │\n",
      "╞═══════════╪═══════════╪═══════════╪═══════════╪═══╪══════════╪═══════════╪═══════════╪═══════════╡\n",
      "│ Political ┆ Explosion ┆ Shelling/ ┆ Military  ┆ … ┆ 47.8479  ┆ 35.1602   ┆ 6         ┆ 2024-12-3 │\n",
      "│ violence  ┆ s/Remote  ┆ artillery ┆ Forces of ┆   ┆          ┆           ┆           ┆ 0         │\n",
      "│           ┆ violence  ┆ /missile  ┆ Ukraine   ┆   ┆          ┆           ┆           ┆           │\n",
      "│           ┆           ┆ att…      ┆ (20…      ┆   ┆          ┆           ┆           ┆           │\n",
      "│ Political ┆ Battles   ┆ Armed     ┆ Military  ┆ … ┆ 48.2986  ┆ 37.3804   ┆ 19        ┆ 2024-12-3 │\n",
      "│ violence  ┆           ┆ clash     ┆ Forces of ┆   ┆          ┆           ┆           ┆ 0         │\n",
      "│           ┆           ┆           ┆ Russia    ┆   ┆          ┆           ┆           ┆           │\n",
      "│           ┆           ┆           ┆ (200…     ┆   ┆          ┆           ┆           ┆           │\n",
      "│ Political ┆ Battles   ┆ Armed     ┆ Military  ┆ … ┆ 48.1391  ┆ 37.0852   ┆ 19        ┆ 2024-12-3 │\n",
      "│ violence  ┆           ┆ clash     ┆ Forces of ┆   ┆          ┆           ┆           ┆ 0         │\n",
      "│           ┆           ┆           ┆ Russia    ┆   ┆          ┆           ┆           ┆           │\n",
      "│           ┆           ┆           ┆ (200…     ┆   ┆          ┆           ┆           ┆           │\n",
      "│ Political ┆ Battles   ┆ Armed     ┆ Military  ┆ … ┆ 48.1362  ┆ 37.0409   ┆ 19        ┆ 2024-12-3 │\n",
      "│ violence  ┆           ┆ clash     ┆ Forces of ┆   ┆          ┆           ┆           ┆ 0         │\n",
      "│           ┆           ┆           ┆ Russia    ┆   ┆          ┆           ┆           ┆           │\n",
      "│           ┆           ┆           ┆ (200…     ┆   ┆          ┆           ┆           ┆           │\n",
      "│ Political ┆ Battles   ┆ Armed     ┆ Military  ┆ … ┆ 48.2691  ┆ 37.3179   ┆ 19        ┆ 2024-12-3 │\n",
      "│ violence  ┆           ┆ clash     ┆ Forces of ┆   ┆          ┆           ┆           ┆ 0         │\n",
      "│           ┆           ┆           ┆ Russia    ┆   ┆          ┆           ┆           ┆           │\n",
      "│           ┆           ┆           ┆ (200…     ┆   ┆          ┆           ┆           ┆           │\n",
      "└───────────┴───────────┴───────────┴───────────┴───┴──────────┴───────────┴───────────┴───────────┘\n"
     ]
    }
   ],
   "source": [
    "import polars as pl\n",
    "import duckdb\n",
    "from datetime import datetime, timedelta\n",
    "\n",
    "# Setup DuckDB\n",
    "conn = duckdb.connect()\n",
    "conn.execute(\"INSTALL httpfs; LOAD httpfs;\")\n",
    "conn.execute(\"CALL load_aws_credentials();\")\n",
    "conn.execute(\"SET s3_region='eu-north-1';\")\n",
    "\n",
    "# Define dates\n",
    "end_date = datetime.now().date()\n",
    "start_date = end_date - timedelta(days=365)\n",
    "\n",
    "# Convert to ISO format strings\n",
    "start_date_str = start_date.isoformat()\n",
    "end_date_str = end_date.isoformat()\n",
    "\n",
    "result = pl.from_arrow(\n",
    "    conn.execute(\"\"\"\n",
    "        SELECT \n",
    "            disorder_type,\n",
    "            event_type,\n",
    "            sub_event_type,\n",
    "            actor1,\n",
    "            actor2,\n",
    "            inter1,\n",
    "            inter2,\n",
    "            interaction,\n",
    "            admin1,\n",
    "            admin2, \n",
    "            admin3,\n",
    "            CAST(latitude AS DOUBLE) as latitude,\n",
    "            CAST(longitude AS DOUBLE) as longitude,\n",
    "            CAST(fatalities AS INTEGER) as fatalities,\n",
    "            CAST(event_date AS DATE) as event_date\n",
    "        FROM read_parquet('s3://dagster-acled-bucket/acled/acled_daily_data/partition_*.parquet')\n",
    "        WHERE CAST(event_date AS DATE) >= CAST(? AS DATE)\n",
    "            AND CAST(event_date AS DATE) <= CAST(? AS DATE)\n",
    "            AND CAST(fatalities AS INTEGER) IS NOT NULL\n",
    "            AND CAST(fatalities AS INTEGER) > 0\n",
    "            AND CAST(latitude AS DOUBLE) IS NOT NULL \n",
    "            AND CAST(longitude AS DOUBLE) IS NOT NULL\n",
    "        ORDER BY event_date\n",
    "    \"\"\", [start_date_str, end_date_str]).arrow()\n",
    ")\n",
    "\n",
    "print(f\"Loaded {len(result):,} records\")\n",
    "print(result.head())"
   ]
  },
  {
   "cell_type": "code",
   "execution_count": 19,
   "metadata": {},
   "outputs": [
    {
     "name": "stderr",
     "output_type": "stream",
     "text": [
      "/var/folders/rs/lp_7j4vj5_s59_pr61yffxl80000gn/T/ipykernel_70380/519628330.py:38: UserWarning: pandas only supports SQLAlchemy connectable (engine/connection) or database string URI or sqlite3 DBAPI2 connection. Other DBAPI2 objects are not tested. Please consider using SQLAlchemy.\n",
      "  recent_df = pd.read_sql_query(query, conn, params=[start_date, end_date])\n"
     ]
    },
    {
     "name": "stdout",
     "output_type": "stream",
     "text": [
      "           latitude     longitude    fatalities\n",
      "count  54249.000000  54249.000000  54249.000000\n",
      "mean      48.929933     35.495349      1.041457\n",
      "std        1.708559      2.178294      5.222928\n",
      "min       43.389000     22.175900      0.000000\n",
      "25%       47.663900     33.870700      0.000000\n",
      "50%       48.436600     35.823500      0.000000\n",
      "75%       50.305600     37.440100      0.000000\n",
      "max       52.341300     40.132200    213.000000\n"
     ]
    }
   ],
   "source": [
    "from dagster_acled.resources.resources import ResourceConfig\n",
    "from dagster_acled.secrets_config import SecretManager\n",
    "import os\n",
    "import pandas as pd\n",
    "\n",
    "sm = SecretManager(region_name=os.environ['REGION_NAME'])\n",
    "\n",
    "resource_config = ResourceConfig.from_secrets(sm=sm, s3_secret_name=\"acled_bucket\", pg_secret_name=\"acled_postgres\")\n",
    "postgres = resource_config.postgres\n",
    "conn = postgres.get_connection()\n",
    "\n",
    "query = f\"\"\"\n",
    "    SELECT \n",
    "        event_id_cnty,\n",
    "        event_date,\n",
    "        disorder_type,\n",
    "        event_type,\n",
    "        sub_event_type,\n",
    "        actor1,\n",
    "        actor2,\n",
    "        inter1,\n",
    "        inter2,\n",
    "        interaction,\n",
    "        admin1,\n",
    "        admin2,\n",
    "        admin3,\n",
    "        latitude,\n",
    "        longitude,\n",
    "        fatalities\n",
    "    FROM {postgres.table_name} \n",
    "    WHERE event_date >= %s \n",
    "        AND event_date <= %s\n",
    "        AND latitude IS NOT NULL \n",
    "        AND longitude IS NOT NULL\n",
    "    ORDER BY event_date\n",
    "    \"\"\"\n",
    "\n",
    "recent_df = pd.read_sql_query(query, conn, params=[start_date, end_date])\n",
    "print(recent_df.describe())"
   ]
  },
  {
   "cell_type": "code",
   "execution_count": 18,
   "metadata": {},
   "outputs": [
    {
     "name": "stdout",
     "output_type": "stream",
     "text": [
      "Loaded 10,317 records\n",
      "shape: (5, 16)\n",
      "┌───────────┬───────────┬───────────┬───────────┬───┬──────────┬───────────┬───────────┬───────────┐\n",
      "│ disorder_ ┆ event_typ ┆ sub_event ┆ actor1    ┆ … ┆ latitude ┆ longitude ┆ fatalitie ┆ event_dat │\n",
      "│ type      ┆ e         ┆ _type     ┆ ---       ┆   ┆ ---      ┆ ---       ┆ s         ┆ e         │\n",
      "│ ---       ┆ ---       ┆ ---       ┆ str       ┆   ┆ f64      ┆ f64       ┆ ---       ┆ ---       │\n",
      "│ str       ┆ str       ┆ str       ┆           ┆   ┆          ┆           ┆ i32       ┆ date      │\n",
      "╞═══════════╪═══════════╪═══════════╪═══════════╪═══╪══════════╪═══════════╪═══════════╪═══════════╡\n",
      "│ Political ┆ Battles   ┆ Armed     ┆ Military  ┆ … ┆ 47.9836  ┆ 37.2823   ┆ 3         ┆ 2024-12-3 │\n",
      "│ violence  ┆           ┆ clash     ┆ Forces of ┆   ┆          ┆           ┆           ┆ 0         │\n",
      "│           ┆           ┆           ┆ Russia    ┆   ┆          ┆           ┆           ┆           │\n",
      "│           ┆           ┆           ┆ (200…     ┆   ┆          ┆           ┆           ┆           │\n",
      "│ Political ┆ Battles   ┆ Armed     ┆ Military  ┆ … ┆ 47.9405  ┆ 37.1637   ┆ 3         ┆ 2024-12-3 │\n",
      "│ violence  ┆           ┆ clash     ┆ Forces of ┆   ┆          ┆           ┆           ┆ 0         │\n",
      "│           ┆           ┆           ┆ Russia    ┆   ┆          ┆           ┆           ┆           │\n",
      "│           ┆           ┆           ┆ (200…     ┆   ┆          ┆           ┆           ┆           │\n",
      "│ Political ┆ Battles   ┆ Armed     ┆ Military  ┆ … ┆ 48.2691  ┆ 37.3179   ┆ 19        ┆ 2024-12-3 │\n",
      "│ violence  ┆           ┆ clash     ┆ Forces of ┆   ┆          ┆           ┆           ┆ 0         │\n",
      "│           ┆           ┆           ┆ Russia    ┆   ┆          ┆           ┆           ┆           │\n",
      "│           ┆           ┆           ┆ (200…     ┆   ┆          ┆           ┆           ┆           │\n",
      "│ Political ┆ Battles   ┆ Armed     ┆ Military  ┆ … ┆ 48.2145  ┆ 37.1721   ┆ 19        ┆ 2024-12-3 │\n",
      "│ violence  ┆           ┆ clash     ┆ Forces of ┆   ┆          ┆           ┆           ┆ 0         │\n",
      "│           ┆           ┆           ┆ Russia    ┆   ┆          ┆           ┆           ┆           │\n",
      "│           ┆           ┆           ┆ (200…     ┆   ┆          ┆           ┆           ┆           │\n",
      "│ Political ┆ Battles   ┆ Armed     ┆ Military  ┆ … ┆ 48.2296  ┆ 37.0807   ┆ 19        ┆ 2024-12-3 │\n",
      "│ violence  ┆           ┆ clash     ┆ Forces of ┆   ┆          ┆           ┆           ┆ 0         │\n",
      "│           ┆           ┆           ┆ Russia    ┆   ┆          ┆           ┆           ┆           │\n",
      "│           ┆           ┆           ┆ (200…     ┆   ┆          ┆           ┆           ┆           │\n",
      "└───────────┴───────────┴───────────┴───────────┴───┴──────────┴───────────┴───────────┴───────────┘\n"
     ]
    }
   ],
   "source": [
    "import polars as pl\n",
    "from datetime import datetime, timedelta\n",
    "\n",
    "# Define date range\n",
    "end_date = datetime.now().date()\n",
    "start_date = end_date - timedelta(days=365)\n",
    "\n",
    "# Scan with lazy evaluation\n",
    "result = (\n",
    "    pl.scan_parquet(\n",
    "        \"s3://dagster-acled-bucket/acled/acled_daily_data/partition_*.parquet\",\n",
    "    )\n",
    "    .select([\n",
    "        pl.col(\"disorder_type\"),\n",
    "        pl.col(\"event_type\"),\n",
    "        pl.col(\"sub_event_type\"),\n",
    "        pl.col(\"actor1\"),\n",
    "        pl.col(\"actor2\"),\n",
    "        pl.col(\"inter1\"),\n",
    "        pl.col(\"inter2\"),\n",
    "        pl.col(\"interaction\"),\n",
    "        pl.col(\"admin1\"),\n",
    "        pl.col(\"admin2\"),\n",
    "        pl.col(\"admin3\"), \n",
    "        pl.col('year').cast(pl.Int64),\n",
    "        pl.col(\"latitude\").cast(pl.Float64).alias(\"latitude\"),\n",
    "        pl.col(\"longitude\").cast(pl.Float64).alias(\"longitude\"),\n",
    "        pl.col(\"fatalities\").cast(pl.Int32).alias(\"fatalities\"),\n",
    "        pl.col(\"event_date\").str.strptime(pl.Date, \"%Y-%m-%d\").alias(\"event_date\"),\n",
    "    ])\n",
    "    .filter(\n",
    "        (pl.col(\"event_date\") >= start_date) &\n",
    "        (pl.col(\"event_date\") <= end_date) &\n",
    "        (pl.col(\"fatalities\").is_not_null()) &\n",
    "        (pl.col(\"fatalities\") > 0) &\n",
    "        (pl.col(\"latitude\").is_not_null()) &\n",
    "        (pl.col(\"longitude\").is_not_null())\n",
    "    )\n",
    "    .sort(\"event_date\", \"event_type\")\n",
    "    .collect(engine=\"streaming\") \n",
    ")\n",
    "\n",
    "print(f\"Loaded {len(result):,} records\")\n",
    "print(result.head())"
   ]
  },
  {
   "cell_type": "code",
   "execution_count": 22,
   "metadata": {},
   "outputs": [],
   "source": [
    "dates = recent_df['event_date'].sort_values().value_counts()"
   ]
  },
  {
   "cell_type": "code",
   "execution_count": 23,
   "metadata": {},
   "outputs": [
    {
     "data": {
      "text/plain": [
       "event_date\n",
       "2025-07-14    278\n",
       "2025-06-02    274\n",
       "2025-07-15    269\n",
       "2025-06-17    268\n",
       "2025-04-22    266\n",
       "             ... \n",
       "2025-02-20    135\n",
       "2025-06-26    126\n",
       "2025-01-02    118\n",
       "2025-05-08    113\n",
       "2025-04-20     80\n",
       "Name: count, Length: 264, dtype: int64"
      ]
     },
     "execution_count": 23,
     "metadata": {},
     "output_type": "execute_result"
    }
   ],
   "source": [
    "dates"
   ]
  },
  {
   "cell_type": "code",
   "execution_count": null,
   "metadata": {},
   "outputs": [],
   "source": []
  }
 ],
 "metadata": {
  "kernelspec": {
   "display_name": "dagster_pipeline",
   "language": "python",
   "name": "python3"
  },
  "language_info": {
   "codemirror_mode": {
    "name": "ipython",
    "version": 3
   },
   "file_extension": ".py",
   "mimetype": "text/x-python",
   "name": "python",
   "nbconvert_exporter": "python",
   "pygments_lexer": "ipython3",
   "version": "3.10.17"
  }
 },
 "nbformat": 4,
 "nbformat_minor": 2
}
